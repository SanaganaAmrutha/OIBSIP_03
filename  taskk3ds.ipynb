{
 "cells": [
  {
   "cell_type": "code",
   "execution_count": 11,
   "id": "efa8e54c-98fb-4f80-aea9-54ffbabd7bbf",
   "metadata": {
    "tags": []
   },
   "outputs": [
    {
     "name": "stdout",
     "output_type": "stream",
     "text": [
      "First few rows of the dataset:\n",
      "  Car_Name  Year  Selling_Price  Present_Price  Driven_kms Fuel_Type  \\\n",
      "0     ritz  2014           3.35           5.59       27000    Petrol   \n",
      "1      sx4  2013           4.75           9.54       43000    Diesel   \n",
      "2     ciaz  2017           7.25           9.85        6900    Petrol   \n",
      "3  wagon r  2011           2.85           4.15        5200    Petrol   \n",
      "4    swift  2014           4.60           6.87       42450    Diesel   \n",
      "\n",
      "  Selling_type Transmission  Owner  \n",
      "0       Dealer       Manual      0  \n",
      "1       Dealer       Manual      0  \n",
      "2       Dealer       Manual      0  \n",
      "3       Dealer       Manual      0  \n",
      "4       Dealer       Manual      0  \n",
      "\n",
      "Missing values in the dataset:\n",
      "Car_Name         0\n",
      "Year             0\n",
      "Selling_Price    0\n",
      "Present_Price    0\n",
      "Driven_kms       0\n",
      "Fuel_Type        0\n",
      "Selling_type     0\n",
      "Transmission     0\n",
      "Owner            0\n",
      "dtype: int64\n",
      "\n",
      "Information about the dataset:\n",
      "<class 'pandas.core.frame.DataFrame'>\n",
      "RangeIndex: 301 entries, 0 to 300\n",
      "Data columns (total 9 columns):\n",
      " #   Column         Non-Null Count  Dtype  \n",
      "---  ------         --------------  -----  \n",
      " 0   Car_Name       301 non-null    object \n",
      " 1   Year           301 non-null    int64  \n",
      " 2   Selling_Price  301 non-null    float64\n",
      " 3   Present_Price  301 non-null    float64\n",
      " 4   Driven_kms     301 non-null    int64  \n",
      " 5   Fuel_Type      301 non-null    object \n",
      " 6   Selling_type   301 non-null    object \n",
      " 7   Transmission   301 non-null    object \n",
      " 8   Owner          301 non-null    int64  \n",
      "dtypes: float64(2), int64(3), object(4)\n",
      "memory usage: 21.3+ KB\n",
      "None\n",
      "\n",
      "Basic statistics of the dataset:\n",
      "              Year  Selling_Price  Present_Price     Driven_kms       Owner\n",
      "count   301.000000     301.000000     301.000000     301.000000  301.000000\n",
      "mean   2013.627907       4.661296       7.628472   36947.205980    0.043189\n",
      "std       2.891554       5.082812       8.642584   38886.883882    0.247915\n",
      "min    2003.000000       0.100000       0.320000     500.000000    0.000000\n",
      "25%    2012.000000       0.900000       1.200000   15000.000000    0.000000\n",
      "50%    2014.000000       3.600000       6.400000   32000.000000    0.000000\n",
      "75%    2016.000000       6.000000       9.900000   48767.000000    0.000000\n",
      "max    2018.000000      35.000000      92.600000  500000.000000    3.000000\n"
     ]
    }
   ],
   "source": [
    "import pandas as pd\n",
    "df = pd.read_csv('car data.csv')\n",
    "\n",
    "# Display the first few rows of the dataframe\n",
    "print(\"First few rows of the dataset:\")\n",
    "print(df.head())\n",
    "\n",
    "# Check for missing values\n",
    "print(\"\\nMissing values in the dataset:\")\n",
    "print(df.isnull().sum())\n",
    "\n",
    "# Display basic statistics and structure\n",
    "print(\"\\nInformation about the dataset:\")\n",
    "print(df.info())\n",
    "\n",
    "print(\"\\nBasic statistics of the dataset:\")\n",
    "print(df.describe())"
   ]
  },
  {
   "cell_type": "code",
   "execution_count": 12,
   "id": "b594dc7a-f11c-4219-9d5a-3723c70964f2",
   "metadata": {
    "tags": []
   },
   "outputs": [
    {
     "name": "stdout",
     "output_type": "stream",
     "text": [
      "\n",
      "First few rows after encoding categorical variables:\n",
      "   Year  Selling_Price  Present_Price  Driven_kms  Owner  Car_Name_Activa 3g  \\\n",
      "0  2014           3.35           5.59       27000      0               False   \n",
      "1  2013           4.75           9.54       43000      0               False   \n",
      "2  2017           7.25           9.85        6900      0               False   \n",
      "3  2011           2.85           4.15        5200      0               False   \n",
      "4  2014           4.60           6.87       42450      0               False   \n",
      "\n",
      "   Car_Name_Activa 4g  Car_Name_Bajaj  ct 100  Car_Name_Bajaj Avenger 150  \\\n",
      "0               False                   False                       False   \n",
      "1               False                   False                       False   \n",
      "2               False                   False                       False   \n",
      "3               False                   False                       False   \n",
      "4               False                   False                       False   \n",
      "\n",
      "   Car_Name_Bajaj Avenger 150 street  ...  Car_Name_swift  Car_Name_sx4  \\\n",
      "0                              False  ...           False         False   \n",
      "1                              False  ...           False          True   \n",
      "2                              False  ...           False         False   \n",
      "3                              False  ...           False         False   \n",
      "4                              False  ...            True         False   \n",
      "\n",
      "   Car_Name_verna  Car_Name_vitara brezza  Car_Name_wagon r  Car_Name_xcent  \\\n",
      "0           False                   False             False           False   \n",
      "1           False                   False             False           False   \n",
      "2           False                   False             False           False   \n",
      "3           False                   False              True           False   \n",
      "4           False                   False             False           False   \n",
      "\n",
      "   Fuel_Type_Diesel  Fuel_Type_Petrol  Selling_type_Individual  \\\n",
      "0             False              True                    False   \n",
      "1              True             False                    False   \n",
      "2             False              True                    False   \n",
      "3             False              True                    False   \n",
      "4              True             False                    False   \n",
      "\n",
      "   Transmission_Manual  \n",
      "0                 True  \n",
      "1                 True  \n",
      "2                 True  \n",
      "3                 True  \n",
      "4                 True  \n",
      "\n",
      "[5 rows x 106 columns]\n"
     ]
    }
   ],
   "source": [
    "# Handle missing values (example: drop rows with missing values)\n",
    "df.dropna(inplace=True)\n",
    "\n",
    "# Encode categorical variables\n",
    "categorical_columns = df.select_dtypes(include=['object']).columns\n",
    "df = pd.get_dummies(df, columns=categorical_columns, drop_first=True)\n",
    "\n",
    "# Display the first few rows to verify encoding\n",
    "print(\"\\nFirst few rows after encoding categorical variables:\")\n",
    "print(df.head())\n"
   ]
  },
  {
   "cell_type": "code",
   "execution_count": 14,
   "id": "70fe7115-5928-43a9-87e2-4b59eeda8d0b",
   "metadata": {
    "tags": []
   },
   "outputs": [
    {
     "name": "stdout",
     "output_type": "stream",
     "text": [
      "Mean Squared Error: 3.935178493502141e+23\n",
      "R^2 Score: -1.7083041630812318e+22\n"
     ]
    }
   ],
   "source": [
    "from sklearn.model_selection import train_test_split\n",
    "from sklearn.preprocessing import StandardScaler\n",
    "from sklearn.linear_model import LinearRegression\n",
    "from sklearn.metrics import mean_squared_error, r2_score\n",
    "\n",
    "# Split the data into features and target\n",
    "X = df.drop('Selling_Price', axis=1)  # Replace 'price' with the actual target column name\n",
    "y = df['Selling_Price']  # Replace 'price' with the actual target column name\n",
    "\n",
    "# Split the data into training and testing sets\n",
    "X_train, X_test, y_train, y_test = train_test_split(X, y, test_size=0.2, random_state=42)\n",
    "\n",
    "# Scale the features\n",
    "scaler = StandardScaler()\n",
    "X_train_scaled = scaler.fit_transform(X_train)\n",
    "X_test_scaled = scaler.transform(X_test)\n",
    "\n",
    "# Train the model\n",
    "model = LinearRegression()\n",
    "model.fit(X_train_scaled, y_train)\n",
    "\n",
    "# Make predictions\n",
    "y_pred = model.predict(X_test_scaled)\n",
    "\n",
    "# Evaluate the model\n",
    "mse = mean_squared_error(y_test, y_pred)\n",
    "r2 = r2_score(y_test, y_pred)\n",
    "\n",
    "print(f'Mean Squared Error: {mse}')\n",
    "print(f'R^2 Score: {r2}')\n"
   ]
  },
  {
   "cell_type": "code",
   "execution_count": 26,
   "id": "afbaeb39-e20e-4634-981e-b464f480a2f4",
   "metadata": {
    "tags": []
   },
   "outputs": [
    {
     "name": "stdout",
     "output_type": "stream",
     "text": [
      "Predicted Car Price: -1157.666163901742\n"
     ]
    },
    {
     "name": "stderr",
     "output_type": "stream",
     "text": [
      "/tmp/ipykernel_4069/2440129346.py:8: PerformanceWarning: DataFrame is highly fragmented.  This is usually the result of calling `frame.insert` many times, which has poor performance.  Consider joining all columns at once using pd.concat(axis=1) instead. To get a de-fragmented frame, use `newframe = frame.copy()`\n",
      "  features_df[col] = 0\n",
      "/tmp/ipykernel_4069/2440129346.py:8: PerformanceWarning: DataFrame is highly fragmented.  This is usually the result of calling `frame.insert` many times, which has poor performance.  Consider joining all columns at once using pd.concat(axis=1) instead. To get a de-fragmented frame, use `newframe = frame.copy()`\n",
      "  features_df[col] = 0\n",
      "/tmp/ipykernel_4069/2440129346.py:8: PerformanceWarning: DataFrame is highly fragmented.  This is usually the result of calling `frame.insert` many times, which has poor performance.  Consider joining all columns at once using pd.concat(axis=1) instead. To get a de-fragmented frame, use `newframe = frame.copy()`\n",
      "  features_df[col] = 0\n",
      "/tmp/ipykernel_4069/2440129346.py:8: PerformanceWarning: DataFrame is highly fragmented.  This is usually the result of calling `frame.insert` many times, which has poor performance.  Consider joining all columns at once using pd.concat(axis=1) instead. To get a de-fragmented frame, use `newframe = frame.copy()`\n",
      "  features_df[col] = 0\n"
     ]
    }
   ],
   "source": [
    "def predict_car_price(features):\n",
    "    features_df = pd.DataFrame([features])\n",
    "    features_df = pd.get_dummies(features_df, columns=categorical_columns, drop_first=True)\n",
    "    \n",
    "    # Ensure the features dataframe has the same columns as the training set\n",
    "    missing_cols = set(X.columns) - set(features_df.columns)\n",
    "    for col in missing_cols:\n",
    "        features_df[col] = 0\n",
    "    features_df = features_df[X.columns]\n",
    "    \n",
    "    # Scale the features\n",
    "    features_scaled = scaler.transform(features_df)\n",
    "    prediction = model.predict(features_scaled)\n",
    "    \n",
    "    return prediction[0]\n",
    "\n",
    "# Test the function\n",
    "test_features = {\n",
    "    'Car_Name': 'ciaz',\n",
    "    'Present_Price': 9.29,\n",
    "    'Driven_kms': 37000,\n",
    "    'Fuel_Type': 'Petrol',\n",
    "    'Selling_type': 'Dealer',\n",
    "    'Transmission': 'Automatic',\n",
    "    'Owner': 0\n",
    "}\n",
    "\n",
    "print(f'Predicted Car Price: {predict_car_price(test_features)}')\n"
   ]
  },
  {
   "cell_type": "code",
   "execution_count": null,
   "id": "41289a8c-4064-4bca-bd5b-632d1b403078",
   "metadata": {},
   "outputs": [],
   "source": []
  }
 ],
 "metadata": {
  "kernelspec": {
   "display_name": "Python 3 (ipykernel)",
   "language": "python",
   "name": "python3"
  },
  "language_info": {
   "codemirror_mode": {
    "name": "ipython",
    "version": 3
   },
   "file_extension": ".py",
   "mimetype": "text/x-python",
   "name": "python",
   "nbconvert_exporter": "python",
   "pygments_lexer": "ipython3",
   "version": "3.11.5"
  }
 },
 "nbformat": 4,
 "nbformat_minor": 5
}
